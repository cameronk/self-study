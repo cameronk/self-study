{
 "cells": [
  {
   "cell_type": "markdown",
   "metadata": {},
   "source": [
    "## C-5.14: Implement your own version of the `shuffle` method, which takes a python list and rearranges it so that every possible ordering is equally likely."
   ]
  },
  {
   "cell_type": "code",
   "execution_count": 41,
   "metadata": {
    "scrolled": true
   },
   "outputs": [
    {
     "name": "stdout",
     "output_type": "stream",
     "text": [
      "[2, 1, 3]\n",
      "VERIFY 1: we expect percentages to converge to 20.00%\n",
      "index 0: 1977 occurrences (19.77%)\n",
      "index 1: 2024 occurrences (20.24%)\n",
      "index 2: 2005 occurrences (20.05%)\n",
      "index 3: 1980 occurrences (19.80%)\n",
      "index 4: 2014 occurrences (20.14%)\n",
      "VERIFY 2: we expect percentages to converge to 16.67%\n",
      "order 123: 166427 occurrences (16.64%)\n",
      "order 213: 166616 occurrences (16.66%)\n",
      "order 231: 166596 occurrences (16.66%)\n",
      "order 321: 166795 occurrences (16.68%)\n",
      "order 312: 166563 occurrences (16.66%)\n",
      "order 132: 167003 occurrences (16.70%)\n"
     ]
    }
   ],
   "source": [
    "from random import randrange\n",
    "from math import factorial\n",
    "\n",
    "def shuffle(arr):\n",
    "    \"\"\"\n",
    "    Shuffle an array such that every possible ordering is equally likely.\n",
    "    This means that each element in arr has a 1/n chance of being returned\n",
    "    at any given index, and each combination of orders has a 1/n! chance\n",
    "    of occuring. Modifies the given array.\n",
    "    \"\"\"\n",
    "    n = len(arr)\n",
    "    c = factorial(n)\n",
    "    \n",
    "    for i in range(n - 1): # 0 <= i < n-1\n",
    "        j = randrange(i, n) # get random position\n",
    "        arr[i], arr[j] = arr[j], arr[i]\n",
    "    return arr\n",
    "    \n",
    "def verify():\n",
    "    A = [1, 2, 3, 4, 5]\n",
    "    N = len(A)\n",
    "    test_count = 10000\n",
    "    acc = []\n",
    "    \n",
    "    # Generate shuffled test arrays.\n",
    "    for i in range(test_count): # 10,000 tries\n",
    "        acc.append(shuffle(A.copy()))\n",
    "    \n",
    "    # Make a 1xN array of positions;\n",
    "    # count the number of occurrences\n",
    "    # of the number 1 at a given position\n",
    "    positions = [0]*N\n",
    "    for test in acc:\n",
    "        positions[test.index(1)] += 1\n",
    "    \n",
    "    # print results\n",
    "    print(\"VERIFY 1: we expect percentages to converge to {:.2f}%\".format(100/N))\n",
    "    for i, e in enumerate(positions):\n",
    "        print(\"index {}: {} occurrences ({:.2f}%)\".format(i, positions[i], positions[i]*100/test_count))\n",
    "\n",
    "def verify2():\n",
    "    A = [1, 2, 3]\n",
    "    N = len(A)\n",
    "    test_count = 1000000\n",
    "    acc = []\n",
    "    \n",
    "    # Generate shuffled test arrays.\n",
    "    for i in range(test_count): # 10,000 tries\n",
    "        acc.append(shuffle(A.copy()))\n",
    "    \n",
    "    orders = [\"123\", \"213\", \"231\", \"321\", \"312\", \"132\"] # 3! possible combinations\n",
    "    counts = [0]*6\n",
    "    for test in acc:\n",
    "        index = orders.index(''.join(str(e) for e in test))\n",
    "        counts[index] += 1\n",
    "    \n",
    "    # print results\n",
    "    print(\"VERIFY 2: we expect percentages to converge to {:.2f}%\".format(100/factorial(N)))\n",
    "    for i, e in enumerate(counts):\n",
    "        print(\"order {}: {} occurrences ({:.2f}%)\".format(orders[i], counts[i], counts[i]*100/test_count))\n",
    "        \n",
    "print(shuffle([1, 2, 3]))\n",
    "verify()\n",
    "verify2()"
   ]
  },
  {
   "cell_type": "code",
   "execution_count": null,
   "metadata": {},
   "outputs": [],
   "source": []
  },
  {
   "cell_type": "code",
   "execution_count": null,
   "metadata": {},
   "outputs": [],
   "source": []
  },
  {
   "cell_type": "code",
   "execution_count": null,
   "metadata": {},
   "outputs": [],
   "source": []
  }
 ],
 "metadata": {
  "kernelspec": {
   "display_name": "Python 3",
   "language": "python",
   "name": "python3"
  },
  "language_info": {
   "codemirror_mode": {
    "name": "ipython",
    "version": 3
   },
   "file_extension": ".py",
   "mimetype": "text/x-python",
   "name": "python",
   "nbconvert_exporter": "python",
   "pygments_lexer": "ipython3",
   "version": "3.6.5"
  }
 },
 "nbformat": 4,
 "nbformat_minor": 2
}
