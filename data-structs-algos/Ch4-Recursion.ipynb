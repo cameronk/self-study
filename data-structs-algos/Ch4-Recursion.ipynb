{
 "cells": [
  {
   "cell_type": "markdown",
   "metadata": {},
   "source": [
    "# Notes on this section\n",
    "I adopt a convention of defining a \\_next \"private\" method within each function; \\_next is intended for recursive use, and has arguments as such. This simplifies public-facing parameters and makes each function easier to interact with for a developer."
   ]
  },
  {
   "cell_type": "markdown",
   "metadata": {},
   "source": [
    "### C-4.9: Write a short recursive Python function that finds the minimum and maximum values in a sequence without using any loops.\n",
    "---"
   ]
  },
  {
   "cell_type": "code",
   "execution_count": 4,
   "metadata": {},
   "outputs": [
    {
     "name": "stdout",
     "output_type": "stream",
     "text": [
      "(0, 19)\n"
     ]
    }
   ],
   "source": [
    "def find_min_max(seq):\n",
    "    \"\"\"Returns a tuple of form (min, max) with\n",
    "    minimum and maximum value of the sequence\"\"\"\n",
    "    def _next(i, min, max):\n",
    "        if seq[i] < min:\n",
    "            min = seq[i]\n",
    "        elif seq[i] > max:\n",
    "            max = seq[i]\n",
    "\n",
    "        if i == 0:\n",
    "            return (min, max)\n",
    "        else:\n",
    "            return _do(i - 1, min, max)\n",
    "    \n",
    "    i0 = len(seq) - 1 # begin from the last element\n",
    "    return _next(i0, seq[i0], seq[i0]) # start recursion\n",
    "\n",
    "seq = range(20)\n",
    "res = find_min_max(seq)\n",
    "print(res)"
   ]
  },
  {
   "cell_type": "markdown",
   "metadata": {},
   "source": [
    "### C-4.10: Describe a recursive algorithm to compute the integer part of the base-two logarithm of n using only addition and integer division.\n",
    "---\n",
    "2^x = n --> log2(n) = x\n",
    "I.e: log2(16) = 4 because 2^4 = 16\n",
    "     log2(15) = 3.90689...\n",
    "     \n",
    "The mathematical property in use here: the integer portion of the base-y logarithm is the number of times you can integer divide n by y with a result > 0."
   ]
  },
  {
   "cell_type": "code",
   "execution_count": 7,
   "metadata": {},
   "outputs": [
    {
     "name": "stdout",
     "output_type": "stream",
     "text": [
      "0\n",
      "3\n",
      "4\n",
      "5\n"
     ]
    }
   ],
   "source": [
    "def log2(n):\n",
    "    \"\"\"Return the integer portion of base-2 logarithm\"\"\"\n",
    "    def _next(x, i):\n",
    "        b = x // 2\n",
    "        if b == 0:\n",
    "            return i # return without incrementing\n",
    "        else:\n",
    "            return _next(b, i + 1)\n",
    "    return _next(n, 0)\n",
    "    \n",
    "print(log2(0))\n",
    "print(log2(15))\n",
    "print(log2(16))\n",
    "print(log2(32))"
   ]
  },
  {
   "cell_type": "markdown",
   "metadata": {},
   "source": [
    "### Describe an efficient recursive function for solving the element-uniqueness problem, which runs in time that is at most O(n^2) in the worst case without using sorting."
   ]
  },
  {
   "cell_type": "code",
   "execution_count": 31,
   "metadata": {},
   "outputs": [
    {
     "name": "stdout",
     "output_type": "stream",
     "text": [
      "True\n",
      "False\n"
     ]
    }
   ],
   "source": [
    "def is_unique(seq):\n",
    "    \"\"\"Returns False if any of the elements in the sequence\n",
    "    are duplicates. Returns True otherwise.\"\"\"\n",
    "    start = 0\n",
    "    n = len(seq)\n",
    "    stop = n - 1\n",
    "    \n",
    "    def _compare(seq, i):\n",
    "        \"\"\"Compare elem at index i to all elems after index i.\"\"\"\n",
    "        if i == stop:\n",
    "            return True\n",
    "        else:\n",
    "            for j in range(i+1, n):\n",
    "                if seq[i] == seq[j]:\n",
    "                    return False # found a duplicate\n",
    "        \n",
    "            return _compare(seq, i + 1)\n",
    "    \n",
    "    # start recursion\n",
    "    return _compare(seq, start)\n",
    "        \n",
    "print(is_unique((1, 2, 3, 4)))\n",
    "print(is_unique((1, 2, 3, 1)))"
   ]
  },
  {
   "cell_type": "markdown",
   "metadata": {},
   "source": [
    "### C-4.12: Give a recursive algorithm to compute the product of two positive integers, m and n, using only addition and subtraction."
   ]
  },
  {
   "cell_type": "code",
   "execution_count": 35,
   "metadata": {},
   "outputs": [
    {
     "name": "stdout",
     "output_type": "stream",
     "text": [
      "6\n",
      "0\n",
      "200\n"
     ]
    }
   ],
   "source": [
    "def multiply(m, n):\n",
    "    \"\"\"Multiply two positive integers.\"\"\"\n",
    "    def _next(s, i):\n",
    "        if i == n: return s + m\n",
    "        else: return _next(s + m, i + 1)\n",
    "    return _next(0, 1)\n",
    "\n",
    "print(multiply(3, 2))\n",
    "print(multiply(0, 2))\n",
    "print(multiply(20, 10))"
   ]
  },
  {
   "cell_type": "markdown",
   "metadata": {},
   "source": [
    "### C-4.15: Write a recursive function that will output all the subsets of a set of n elements (without repeating any subsets).\n",
    "\n",
    "Subsets of {1, 2, 3}:\n",
    "{}\n",
    "{1}\n",
    "{2}\n",
    "{3}\n",
    "{1, 2}\n",
    "{1, 3}\n",
    "{2, 3}\n",
    "{1, 2, 3}"
   ]
  },
  {
   "cell_type": "code",
   "execution_count": 54,
   "metadata": {},
   "outputs": [
    {
     "name": "stdout",
     "output_type": "stream",
     "text": [
      "[set(), {4}, {3}, {3, 4}, {2}, {2, 4}, {2, 3}, {2, 3, 4}, {1}, {1, 4}, {1, 3}, {1, 3, 4}, {1, 2}, {1, 2, 4}, {1, 2, 3}, {1, 2, 3, 4}]\n"
     ]
    }
   ],
   "source": [
    "def subsets(s):\n",
    "    \"\"\"Return an array of possible subsets of set S\"\"\"\n",
    "    if len(s) == 0:\n",
    "        return [set()]\n",
    "    else:\n",
    "        h = s.pop()\n",
    "        ss_excl_h = subsets(s)\n",
    "        ss_incl_h = [({h} | ss) for ss in ss_excl_h]\n",
    "        return ss_excl_h + ss_incl_h\n",
    "\n",
    "s = {1, 2, 3, 4}\n",
    "print(subsets(s))"
   ]
  },
  {
   "cell_type": "markdown",
   "metadata": {},
   "source": [
    "### C-4.19: Write a short recursive Python function that rearranges a sequence of integer values so that all the even values appear before all the odd values."
   ]
  },
  {
   "cell_type": "code",
   "execution_count": 42,
   "metadata": {},
   "outputs": [
    {
     "name": "stdout",
     "output_type": "stream",
     "text": [
      "[8, 3, 5, 1]\n",
      "[2, 4, 8, 8, 4, 2, 2, 2, 2, 3, 1, 5, 3]\n",
      "[2, 4, 6, 8]\n"
     ]
    }
   ],
   "source": [
    "def sort_even_first(seq):\n",
    "    stop = len(seq)\n",
    "    def _next(i, replacementIndex):\n",
    "        \"\"\"i = current index in seq, replacementIndex = smallest index with an odd number\"\"\"\n",
    "        if i == stop:\n",
    "            return seq\n",
    "        else:\n",
    "            a = seq[i]\n",
    "            if a % 2 == 0: # even\n",
    "                seq[i] = seq[replacementIndex]\n",
    "                seq[replacementIndex] = a\n",
    "                replacementIndex += 1\n",
    "            return _next(i + 1, replacementIndex)\n",
    "    return _next(0, 0)\n",
    "\n",
    "print(sort_even_first([1, 3, 5, 8]))\n",
    "print(sort_even_first([1, 2, 3, 4, 5, 8, 8, 4, 3, 2, 2, 2, 2]))\n",
    "print(sort_even_first([2, 4, 6, 8]))\n",
    "                "
   ]
  },
  {
   "cell_type": "code",
   "execution_count": null,
   "metadata": {},
   "outputs": [],
   "source": []
  }
 ],
 "metadata": {
  "kernelspec": {
   "display_name": "Python 3",
   "language": "python",
   "name": "python3"
  },
  "language_info": {
   "codemirror_mode": {
    "name": "ipython",
    "version": 3
   },
   "file_extension": ".py",
   "mimetype": "text/x-python",
   "name": "python",
   "nbconvert_exporter": "python",
   "pygments_lexer": "ipython3",
   "version": "3.6.5"
  }
 },
 "nbformat": 4,
 "nbformat_minor": 2
}
